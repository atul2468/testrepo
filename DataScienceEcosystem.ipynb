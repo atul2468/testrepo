{
 "cells": [
  {
   "cell_type": "markdown",
   "id": "3beb3ad5-913c-4f2b-b1d9-33d2f5d60330",
   "metadata": {},
   "source": [
    "# Data Science and Ecosystem"
   ]
  },
  {
   "cell_type": "markdown",
   "id": "82e376fe-9b12-42d7-a3d6-4a97a13e741f",
   "metadata": {},
   "source": [
    "This notebook summarizes Data Science Tools and its Ecosystem."
   ]
  },
  {
   "cell_type": "markdown",
   "id": "64fcc791-7a93-4486-af8d-f130b53fb61b",
   "metadata": {},
   "source": [
    "**Objectives**:\n",
    "- List popular languages for data science.\n",
    "- List commonly used data science libraries.\n",
    "- Evaluate arithmetic expressions in Python.\n"
   ]
  },
  {
   "cell_type": "markdown",
   "id": "7871c258-c146-4d39-a115-e706d64d541d",
   "metadata": {},
   "source": [
    "Some of the most popular languages used by data scientists are:\n",
    "1. Python\n",
    "2. SQL\n",
    "3. R\n",
    "4. MATLAB\n",
    "5. Java"
   ]
  },
  {
   "cell_type": "markdown",
   "id": "c6341189-f89f-4681-b15f-cb23fc18f7f9",
   "metadata": {},
   "source": [
    "Some of the commonly used data science libraries are:\n",
    "1. NumPy\n",
    "2. Keras\n",
    "3. Pandas\n",
    "4. PyTorch\n",
    "5. SciPy"
   ]
  },
  {
   "cell_type": "markdown",
   "id": "4cee3daf-7aad-4871-924d-6fe420ab2287",
   "metadata": {},
   "source": [
    "| --- |\n",
    "| Data Science Tools |\n",
    "| --- |\n",
    "| IDLE |\n",
    "| --- |\n",
    "| Spyder |\n",
    "| --- |\n",
    "| PyCharm |\n",
    "| --- |"
   ]
  },
  {
   "cell_type": "markdown",
   "id": "8c5ad0b2-5256-4481-a2e9-089f6cf07bef",
   "metadata": {},
   "source": [
    "Below are some of the illustrations of evaluating arithmetic expressions in python."
   ]
  },
  {
   "cell_type": "code",
   "execution_count": 1,
   "id": "d043504e-fa8f-4e52-9e28-00437227755d",
   "metadata": {
    "tags": []
   },
   "outputs": [
    {
     "name": "stdout",
     "output_type": "stream",
     "text": [
      "17\n"
     ]
    }
   ],
   "source": [
    "# Simple arithmetic expression to multiply then add integers\n",
    "print((3*4)+5)"
   ]
  },
  {
   "cell_type": "code",
   "execution_count": 2,
   "id": "06f7789c-1c02-418d-bf04-a3ee8b54bc31",
   "metadata": {
    "tags": []
   },
   "outputs": [
    {
     "name": "stdout",
     "output_type": "stream",
     "text": [
      "Time in minutes is 200\n",
      "The given time in hours is 3.3333333333333335\n"
     ]
    }
   ],
   "source": [
    "# This will convert 200 minutes to hours by dividing by 60\n",
    "time_minutes = 200\n",
    "time_hours = time_minutes/60\n",
    "print(\"Time in minutes is\", time_minutes)\n",
    "print(\"The given time in hours is\", time_hours)"
   ]
  },
  {
   "cell_type": "markdown",
   "id": "f9e63f4c-4fd4-4094-a40e-4b074b34a71a",
   "metadata": {},
   "source": [
    "## AUTHOR\n",
    "Atul Bhanot"
   ]
  },
  {
   "cell_type": "code",
   "execution_count": null,
   "id": "7bf76c4e-6d93-4d6a-9c5b-a0aa4d1a0d1f",
   "metadata": {},
   "outputs": [],
   "source": []
  }
 ],
 "metadata": {
  "kernelspec": {
   "display_name": "Python",
   "language": "python",
   "name": "conda-env-python-py"
  },
  "language_info": {
   "codemirror_mode": {
    "name": "ipython",
    "version": 3
   },
   "file_extension": ".py",
   "mimetype": "text/x-python",
   "name": "python",
   "nbconvert_exporter": "python",
   "pygments_lexer": "ipython3",
   "version": "3.7.12"
  }
 },
 "nbformat": 4,
 "nbformat_minor": 5
}
